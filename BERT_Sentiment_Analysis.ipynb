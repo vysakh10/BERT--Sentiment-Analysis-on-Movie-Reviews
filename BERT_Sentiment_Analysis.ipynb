{
 "cells": [
  {
   "cell_type": "code",
   "execution_count": 134,
   "metadata": {},
   "outputs": [],
   "source": [
    "import pandas as pd\n",
    "import numpy as np\n",
    "import tensorflow as tf\n",
    "import warnings\n",
    "warnings.filterwarnings('ignore')\n",
    "import matplotlib.pyplot as plt\n",
    "import seaborn as sns\n",
    "import re\n",
    "import string\n",
    "from tqdm import tqdm\n",
    "from nltk.corpus import stopwords\n",
    "from sklearn.model_selection import train_test_split\n",
    "from transformers import BertTokenizer, TFBertModel\n",
    "from tensorflow.keras.layers import Input, Dense, Dropout\n",
    "import tensorflow_hub as hub\n",
    "from tensorflow.keras.models import Model\n",
    "import datetime\n",
    "from sklearn.metrics import roc_auc_score, confusion_matrix"
   ]
  },
  {
   "cell_type": "code",
   "execution_count": 2,
   "metadata": {},
   "outputs": [
    {
     "data": {
      "text/html": [
       "<div>\n",
       "<style scoped>\n",
       "    .dataframe tbody tr th:only-of-type {\n",
       "        vertical-align: middle;\n",
       "    }\n",
       "\n",
       "    .dataframe tbody tr th {\n",
       "        vertical-align: top;\n",
       "    }\n",
       "\n",
       "    .dataframe thead th {\n",
       "        text-align: right;\n",
       "    }\n",
       "</style>\n",
       "<table border=\"1\" class=\"dataframe\">\n",
       "  <thead>\n",
       "    <tr style=\"text-align: right;\">\n",
       "      <th></th>\n",
       "      <th>PhraseId</th>\n",
       "      <th>SentenceId</th>\n",
       "      <th>Phrase</th>\n",
       "      <th>Sentiment</th>\n",
       "    </tr>\n",
       "  </thead>\n",
       "  <tbody>\n",
       "    <tr>\n",
       "      <th>0</th>\n",
       "      <td>1</td>\n",
       "      <td>1</td>\n",
       "      <td>A series of escapades demonstrating the adage ...</td>\n",
       "      <td>1</td>\n",
       "    </tr>\n",
       "    <tr>\n",
       "      <th>1</th>\n",
       "      <td>2</td>\n",
       "      <td>1</td>\n",
       "      <td>A series of escapades demonstrating the adage ...</td>\n",
       "      <td>2</td>\n",
       "    </tr>\n",
       "    <tr>\n",
       "      <th>2</th>\n",
       "      <td>3</td>\n",
       "      <td>1</td>\n",
       "      <td>A series</td>\n",
       "      <td>2</td>\n",
       "    </tr>\n",
       "    <tr>\n",
       "      <th>3</th>\n",
       "      <td>4</td>\n",
       "      <td>1</td>\n",
       "      <td>A</td>\n",
       "      <td>2</td>\n",
       "    </tr>\n",
       "    <tr>\n",
       "      <th>4</th>\n",
       "      <td>5</td>\n",
       "      <td>1</td>\n",
       "      <td>series</td>\n",
       "      <td>2</td>\n",
       "    </tr>\n",
       "  </tbody>\n",
       "</table>\n",
       "</div>"
      ],
      "text/plain": [
       "   PhraseId  SentenceId                                             Phrase  \\\n",
       "0         1           1  A series of escapades demonstrating the adage ...   \n",
       "1         2           1  A series of escapades demonstrating the adage ...   \n",
       "2         3           1                                           A series   \n",
       "3         4           1                                                  A   \n",
       "4         5           1                                             series   \n",
       "\n",
       "   Sentiment  \n",
       "0          1  \n",
       "1          2  \n",
       "2          2  \n",
       "3          2  \n",
       "4          2  "
      ]
     },
     "execution_count": 2,
     "metadata": {},
     "output_type": "execute_result"
    }
   ],
   "source": [
    "reviews = pd.read_csv('train.tsv', sep = '\\t')\n",
    "reviews.head()"
   ]
  },
  {
   "cell_type": "code",
   "execution_count": 3,
   "metadata": {},
   "outputs": [
    {
     "data": {
      "text/plain": [
       "0"
      ]
     },
     "execution_count": 3,
     "metadata": {},
     "output_type": "execute_result"
    }
   ],
   "source": [
    "reviews.duplicated().sum()  # no duplicates"
   ]
  },
  {
   "cell_type": "code",
   "execution_count": 4,
   "metadata": {},
   "outputs": [],
   "source": [
    "reviews = reviews.drop(['PhraseId','SentenceId'], axis=1)"
   ]
  },
  {
   "cell_type": "code",
   "execution_count": 5,
   "metadata": {},
   "outputs": [
    {
     "data": {
      "text/plain": [
       "<AxesSubplot:xlabel='Sentiment', ylabel='count'>"
      ]
     },
     "execution_count": 5,
     "metadata": {},
     "output_type": "execute_result"
    },
    {
     "data": {
      "image/png": "[encoded data removed]",
      "text/plain": [
       "<Figure size 432x288 with 1 Axes>"
      ]
     },
     "metadata": {
      "needs_background": "light"
     },
     "output_type": "display_data"
    }
   ],
   "source": [
    "sns.countplot(reviews['Sentiment'])"
   ]
  },
  {
   "cell_type": "markdown",
   "metadata": {},
   "source": [
    "Lets convert anything below 2 as negative(0), above 2 as positive(2) and 1 as neutral."
   ]
  },
  {
   "cell_type": "code",
   "execution_count": 6,
   "metadata": {},
   "outputs": [],
   "source": [
    "def modify_sentiment(x):\n",
    "    if x < 2:\n",
    "        return 0\n",
    "    elif x > 2:\n",
    "        return 2\n",
    "    else:\n",
    "        return 1"
   ]
  },
  {
   "cell_type": "code",
   "execution_count": 7,
   "metadata": {},
   "outputs": [],
   "source": [
    "reviews['Sentiment'] = reviews['Sentiment'].apply(lambda x: modify_sentiment(x))"
   ]
  },
  {
   "cell_type": "code",
   "execution_count": 8,
   "metadata": {},
   "outputs": [
    {
     "data": {
      "text/plain": [
       "<AxesSubplot:xlabel='Sentiment', ylabel='count'>"
      ]
     },
     "execution_count": 8,
     "metadata": {},
     "output_type": "execute_result"
    },
    {
     "data": {
      "image/png": "[encoded data removed]",
      "text/plain": [
       "<Figure size 432x288 with 1 Axes>"
      ]
     },
     "metadata": {
      "needs_background": "light"
     },
     "output_type": "display_data"
    }
   ],
   "source": [
    "sns.countplot(reviews['Sentiment'])"
   ]
  },
  {
   "cell_type": "code",
   "execution_count": 9,
   "metadata": {},
   "outputs": [],
   "source": [
    "def decontractions(phrase):\n",
    "    '''Performs decontractions in the doc'''\n",
    "\n",
    "    phrase = re.sub(r\"won't\", \"will not\", phrase)\n",
    "    phrase = re.sub(r\"can\\'t\", \"can not\", phrase)\n",
    "    phrase = re.sub(r\"couldn\\'t\", \"could not\", phrase)\n",
    "    phrase = re.sub(r\"shouldn\\'t\", \"should not\", phrase)\n",
    "    phrase = re.sub(r\"wouldn\\'t\", \"would not\", phrase)\n",
    "    # general\n",
    "    phrase = re.sub(r\"n\\'t\", \" not\", phrase)\n",
    "    phrase = re.sub(r\"\\'re\", \" are\", phrase)\n",
    "    phrase = re.sub(r\"\\'s\", \" is\", phrase)\n",
    "    phrase = re.sub(r\"\\'d\", \" would\", phrase)\n",
    "    phrase = re.sub(r\"\\'ll\", \" will\", phrase)\n",
    "    phrase = re.sub(r\"\\'t\", \" not\", phrase)\n",
    "    phrase = re.sub(r\"\\'ve\", \" have\", phrase)\n",
    "    phrase = re.sub(r\"\\'m\", \" am\", phrase)\n",
    "        \n",
    "    return phrase"
   ]
  },
  {
   "cell_type": "code",
   "execution_count": 10,
   "metadata": {},
   "outputs": [],
   "source": [
    "def preprocess(text):\n",
    "    \n",
    "    punctuations = set(string.punctuation)\n",
    "    stop_words = stopwords.words('english')\n",
    "    new_text = []\n",
    "    new_score = []\n",
    "    for line, score in text.values:\n",
    "        if len(line.split()) == 1 and line in stop_words:\n",
    "            continue\n",
    "        else:\n",
    "            # lowercase\n",
    "            line = line.lower()\n",
    "            # removes punctuations\n",
    "            temp = []\n",
    "            for i in line:\n",
    "                if i in punctuations or i.isdigit():\n",
    "                    continue\n",
    "                else:\n",
    "                    temp.append(i)\n",
    "                line = ''.join(e for e in temp)\n",
    "            # removes HTML tags if any\n",
    "            line = re.sub('<.*?>', ' ', line)\n",
    "            # performs decontractions\n",
    "            line = decontractions(line)\n",
    "            # removes multiple spaces\n",
    "            line = re.sub(' +', ' ', line)\n",
    "            \n",
    "            temp = []\n",
    "            for word in line.split():\n",
    "                if len(word) < 2:\n",
    "                    continue\n",
    "                else:\n",
    "                    temp.append(word)\n",
    "            line = ' '.join(e for e in temp)\n",
    "            \n",
    "            new_text.append(line)\n",
    "            new_score.append(score)\n",
    "            \n",
    "    reviews = pd.DataFrame()\n",
    "    reviews['Text'] = new_text\n",
    "    reviews['score'] = new_score\n",
    "    \n",
    "    reviews = reviews[reviews.Text != '']\n",
    "    reviews.to_csv('Preprocessed_Reviews.csv', index=False)\n",
    "    return reviews"
   ]
  },
  {
   "cell_type": "code",
   "execution_count": 11,
   "metadata": {},
   "outputs": [],
   "source": [
    "reviews = preprocess(reviews)"
   ]
  },
  {
   "cell_type": "code",
   "execution_count": 12,
   "metadata": {},
   "outputs": [
    {
     "data": {
      "text/plain": [
       "(155812, 2)"
      ]
     },
     "execution_count": 12,
     "metadata": {},
     "output_type": "execute_result"
    }
   ],
   "source": [
    "reviews.shape"
   ]
  },
  {
   "cell_type": "code",
   "execution_count": 13,
   "metadata": {},
   "outputs": [
    {
     "data": {
      "text/html": [
       "<div>\n",
       "<style scoped>\n",
       "    .dataframe tbody tr th:only-of-type {\n",
       "        vertical-align: middle;\n",
       "    }\n",
       "\n",
       "    .dataframe tbody tr th {\n",
       "        vertical-align: top;\n",
       "    }\n",
       "\n",
       "    .dataframe thead th {\n",
       "        text-align: right;\n",
       "    }\n",
       "</style>\n",
       "<table border=\"1\" class=\"dataframe\">\n",
       "  <thead>\n",
       "    <tr style=\"text-align: right;\">\n",
       "      <th></th>\n",
       "      <th>Text</th>\n",
       "      <th>score</th>\n",
       "    </tr>\n",
       "  </thead>\n",
       "  <tbody>\n",
       "    <tr>\n",
       "      <th>0</th>\n",
       "      <td>series of escapades demonstrating the adage th...</td>\n",
       "      <td>0</td>\n",
       "    </tr>\n",
       "    <tr>\n",
       "      <th>1</th>\n",
       "      <td>series of escapades demonstrating the adage th...</td>\n",
       "      <td>1</td>\n",
       "    </tr>\n",
       "    <tr>\n",
       "      <th>2</th>\n",
       "      <td>series</td>\n",
       "      <td>1</td>\n",
       "    </tr>\n",
       "    <tr>\n",
       "      <th>4</th>\n",
       "      <td>series</td>\n",
       "      <td>1</td>\n",
       "    </tr>\n",
       "    <tr>\n",
       "      <th>5</th>\n",
       "      <td>of escapades demonstrating the adage that what...</td>\n",
       "      <td>1</td>\n",
       "    </tr>\n",
       "  </tbody>\n",
       "</table>\n",
       "</div>"
      ],
      "text/plain": [
       "                                                Text  score\n",
       "0  series of escapades demonstrating the adage th...      0\n",
       "1  series of escapades demonstrating the adage th...      1\n",
       "2                                             series      1\n",
       "4                                             series      1\n",
       "5  of escapades demonstrating the adage that what...      1"
      ]
     },
     "execution_count": 13,
     "metadata": {},
     "output_type": "execute_result"
    }
   ],
   "source": [
    "reviews.head()"
   ]
  },
  {
   "cell_type": "code",
   "execution_count": 14,
   "metadata": {},
   "outputs": [],
   "source": [
    "#reviews = pd.read_csv('Preprocessed.csv')"
   ]
  },
  {
   "cell_type": "code",
   "execution_count": 15,
   "metadata": {},
   "outputs": [],
   "source": [
    "X_train, X_test, y_train, y_test = train_test_split(reviews.Text, reviews.score, test_size = 0.2, random_state=101, \n",
    "                                                    stratify = reviews.score)"
   ]
  },
  {
   "cell_type": "code",
   "execution_count": 16,
   "metadata": {},
   "outputs": [
    {
     "data": {
      "text/plain": [
       "(1    63477\n",
       " 2    33702\n",
       " 0    27470\n",
       " Name: score, dtype: int64,\n",
       " 1    15870\n",
       " 2     8426\n",
       " 0     6867\n",
       " Name: score, dtype: int64)"
      ]
     },
     "execution_count": 16,
     "metadata": {},
     "output_type": "execute_result"
    }
   ],
   "source": [
    "y_train.value_counts(), y_test.value_counts()"
   ]
  },
  {
   "cell_type": "code",
   "execution_count": 17,
   "metadata": {},
   "outputs": [],
   "source": [
    "length_train = []\n",
    "for i in X_train:\n",
    "    length_train.append(len(i.split()))"
   ]
  },
  {
   "cell_type": "code",
   "execution_count": 18,
   "metadata": {},
   "outputs": [
    {
     "data": {
      "text/plain": [
       "<AxesSubplot:>"
      ]
     },
     "execution_count": 18,
     "metadata": {},
     "output_type": "execute_result"
    },
    {
     "data": {
      "image/png": "[encoded data removed]",
      "text/plain": [
       "<Figure size 432x288 with 1 Axes>"
      ]
     },
     "metadata": {
      "needs_background": "light"
     },
     "output_type": "display_data"
    }
   ],
   "source": [
    "sns.scatterplot(range(X_train.shape[0]), length_train)"
   ]
  },
  {
   "cell_type": "code",
   "execution_count": 19,
   "metadata": {},
   "outputs": [
    {
     "data": {
      "text/plain": [
       "49"
      ]
     },
     "execution_count": 19,
     "metadata": {},
     "output_type": "execute_result"
    }
   ],
   "source": [
    "max_length = max(length_train) + 2 # for cls and sep tokens\n",
    "max_length"
   ]
  },
  {
   "cell_type": "code",
   "execution_count": 20,
   "metadata": {},
   "outputs": [
    {
     "data": {
      "text/plain": [
       "<AxesSubplot:title={'center':'y_test'}, xlabel='score', ylabel='count'>"
      ]
     },
     "execution_count": 20,
     "metadata": {},
     "output_type": "execute_result"
    },
    {
     "data": {
      "image/png": "[encoded data removed]",
      "text/plain": [
       "<Figure size 720x360 with 2 Axes>"
      ]
     },
     "metadata": {
      "needs_background": "light"
     },
     "output_type": "display_data"
    }
   ],
   "source": [
    "plt.figure(figsize=(10,5))\n",
    "plt.subplot(121)\n",
    "plt.title('y_train')\n",
    "sns.countplot(y_train)\n",
    "plt.subplot(122)\n",
    "plt.title('y_test')\n",
    "sns.countplot(y_test)"
   ]
  },
  {
   "cell_type": "markdown",
   "metadata": {},
   "source": [
    "The distributions are same "
   ]
  },
  {
   "cell_type": "code",
   "execution_count": 21,
   "metadata": {},
   "outputs": [
    {
     "data": {
      "text/plain": [
       "((124649,), (31163,))"
      ]
     },
     "execution_count": 21,
     "metadata": {},
     "output_type": "execute_result"
    }
   ],
   "source": [
    "X_train.shape, X_test.shape"
   ]
  },
  {
   "cell_type": "code",
   "execution_count": 22,
   "metadata": {
    "scrolled": true
   },
   "outputs": [],
   "source": [
    "bert_tokenizer = BertTokenizer.from_pretrained('bert-base-uncased')"
   ]
  },
  {
   "cell_type": "code",
   "execution_count": 23,
   "metadata": {},
   "outputs": [],
   "source": [
    "def tokenization(X, max_length):\n",
    "    X_mask = np.zeros((X.shape[0], max_length))\n",
    "    X_segment = np.zeros((X.shape[0], max_length))\n",
    "    X_new = []\n",
    "    for i in range(len(X.values)):\n",
    "        temp = bert_tokenizer.encode(X.values[i], pad_to_max_length = True, max_length = max_length, truncation=True)\n",
    "        X_new.append(temp)\n",
    "        for j in range(max_length):\n",
    "            if temp[j] != 0:\n",
    "                X_mask[i][j] = 1\n",
    "            else:\n",
    "                continue\n",
    "        \n",
    "    return np.array(X_new), X_mask, X_segment"
   ]
  },
  {
   "cell_type": "code",
   "execution_count": 24,
   "metadata": {},
   "outputs": [],
   "source": [
    "X_train_tok, X_train_mask, X_train_segment = tokenization(X_train, max_length)"
   ]
  },
  {
   "cell_type": "code",
   "execution_count": 25,
   "metadata": {},
   "outputs": [
    {
     "data": {
      "text/plain": [
       "((124649, 49), (124649, 49), (124649, 49))"
      ]
     },
     "execution_count": 25,
     "metadata": {},
     "output_type": "execute_result"
    }
   ],
   "source": [
    "X_train_tok.shape, X_train_mask.shape, X_train_segment.shape"
   ]
  },
  {
   "cell_type": "code",
   "execution_count": 26,
   "metadata": {},
   "outputs": [],
   "source": [
    "X_test_tok, X_test_mask, X_test_segment = tokenization(X_test, max_length)"
   ]
  },
  {
   "cell_type": "code",
   "execution_count": 27,
   "metadata": {},
   "outputs": [
    {
     "data": {
      "text/plain": [
       "((31163, 49), (31163, 49), (31163, 49))"
      ]
     },
     "execution_count": 27,
     "metadata": {},
     "output_type": "execute_result"
    }
   ],
   "source": [
    "X_test_tok.shape, X_test_mask.shape, X_test_segment.shape"
   ]
  },
  {
   "cell_type": "code",
   "execution_count": 28,
   "metadata": {},
   "outputs": [],
   "source": [
    "import pickle"
   ]
  },
  {
   "cell_type": "code",
   "execution_count": 29,
   "metadata": {},
   "outputs": [],
   "source": [
    "##save all your results to disk so that, no need to run all again. \n",
    "pickle.dump((X_train, X_train_tok, X_train_mask, X_train_segment, y_train),open('train_data.pkl','wb'))\n",
    "pickle.dump((X_test, X_test_tok, X_test_mask, X_test_segment, y_test),open('test_data.pkl','wb'))"
   ]
  },
  {
   "cell_type": "code",
   "execution_count": 30,
   "metadata": {},
   "outputs": [
    {
     "name": "stderr",
     "output_type": "stream",
     "text": [
      "INFO:absl:Using C:\\Users\\VYSAKH~1\\AppData\\Local\\Temp\\tfhub_modules to cache modules.\n"
     ]
    }
   ],
   "source": [
    "# Loading the Pretrained Model from tensorflow HUB\n",
    "tf.keras.backend.clear_session()\n",
    "\n",
    "input_word_ids = tf.keras.layers.Input(shape=(max_length,), dtype=tf.int32, name=\"input_word_ids\")\n",
    "\n",
    "input_mask = tf.keras.layers.Input(shape=(max_length,), dtype=tf.int32, name=\"input_mask\")\n",
    "\n",
    "segment_ids = tf.keras.layers.Input(shape=(max_length,), dtype=tf.int32, name=\"segment_ids\")\n",
    " \n",
    "bert_layer = hub.KerasLayer(\"https://tfhub.dev/tensorflow/bert_en_uncased_L-12_H-768_A-12/1\", trainable=False)\n",
    "pooled_output, sequence_output = bert_layer([input_word_ids, input_mask, segment_ids])\n",
    "\n",
    "bert_model = Model(inputs=[input_word_ids, input_mask, segment_ids], outputs=pooled_output)"
   ]
  },
  {
   "cell_type": "code",
   "execution_count": 31,
   "metadata": {},
   "outputs": [
    {
     "data": {
      "text/plain": [
       "<tf.Tensor 'keras_layer/Identity:0' shape=(None, 768) dtype=float32>"
      ]
     },
     "execution_count": 31,
     "metadata": {},
     "output_type": "execute_result"
    }
   ],
   "source": [
    "bert_model.output"
   ]
  },
  {
   "cell_type": "code",
   "execution_count": 32,
   "metadata": {},
   "outputs": [],
   "source": [
    "X_train_output = bert_model.predict([X_train_tok, X_train_mask, X_train_segment])\n",
    "X_test_output = bert_model.predict([X_test_tok, X_test_mask, X_test_segment])"
   ]
  },
  {
   "cell_type": "code",
   "execution_count": 33,
   "metadata": {},
   "outputs": [],
   "source": [
    "pickle.dump((X_train_output, X_test_output), open('Text_Features_from_BERT.pkl','wb'))"
   ]
  },
  {
   "cell_type": "code",
   "execution_count": 35,
   "metadata": {},
   "outputs": [],
   "source": [
    "y_train_OHE = tf.keras.utils.to_categorical(y_train, 3)\n",
    "y_test_OHE = tf.keras.utils.to_categorical(y_test, 3)"
   ]
  },
  {
   "cell_type": "markdown",
   "metadata": {},
   "source": [
    "## Logistic Regression on top of retrieved features"
   ]
  },
  {
   "cell_type": "code",
   "execution_count": 37,
   "metadata": {},
   "outputs": [],
   "source": [
    "from sklearn.linear_model import LogisticRegression"
   ]
  },
  {
   "cell_type": "code",
   "execution_count": 38,
   "metadata": {},
   "outputs": [
    {
     "data": {
      "text/plain": [
       "LogisticRegression(n_jobs=-1)"
      ]
     },
     "execution_count": 38,
     "metadata": {},
     "output_type": "execute_result"
    }
   ],
   "source": [
    "lr = LogisticRegression(n_jobs=-1)\n",
    "lr.fit(X_train_output, y_train)"
   ]
  },
  {
   "cell_type": "code",
   "execution_count": 53,
   "metadata": {},
   "outputs": [
    {
     "data": {
      "text/plain": [
       "array([1], dtype=int64)"
      ]
     },
     "execution_count": 53,
     "metadata": {},
     "output_type": "execute_result"
    }
   ],
   "source": [
    "lr.predict(X_test_output[9].reshape(1,-1))"
   ]
  },
  {
   "cell_type": "code",
   "execution_count": 130,
   "metadata": {},
   "outputs": [],
   "source": [
    "lr_predictions = lr.predict(X_test_output)"
   ]
  },
  {
   "cell_type": "code",
   "execution_count": 152,
   "metadata": {},
   "outputs": [
    {
     "data": {
      "text/plain": [
       "0.7165682255906418"
      ]
     },
     "execution_count": 152,
     "metadata": {},
     "output_type": "execute_result"
    }
   ],
   "source": [
    "roc_auc_score(y_test_OHE, lr_pred_OHE)"
   ]
  },
  {
   "cell_type": "code",
   "execution_count": 160,
   "metadata": {},
   "outputs": [
    {
     "data": {
      "text/plain": [
       "Text(33.0, 0.5, 'Actual')"
      ]
     },
     "execution_count": 160,
     "metadata": {},
     "output_type": "execute_result"
    },
    {
     "data": {
      "image/png": "[encoded data removed]",
      "text/plain": [
       "<Figure size 432x432 with 2 Axes>"
      ]
     },
     "metadata": {
      "needs_background": "light"
     },
     "output_type": "display_data"
    }
   ],
   "source": [
    "plt.figure(figsize=(6,6))\n",
    "plt.title('Confusion Matrix')\n",
    "sns.heatmap(confusion_matrix(y_test.values, lr_predictions), cmap='Reds', annot=True)\n",
    "plt.xlabel('Predicted')\n",
    "plt.ylabel('Actual')"
   ]
  },
  {
   "cell_type": "markdown",
   "metadata": {},
   "source": [
    "## NN on top of retrieved features"
   ]
  },
  {
   "cell_type": "code",
   "execution_count": 119,
   "metadata": {},
   "outputs": [],
   "source": [
    "class scoring(tf.keras.callbacks.Callback):\n",
    "    \n",
    "    def __init__(self, validation_data):\n",
    "        self.validation_data = validation_data\n",
    "    def on_train_begin(self, logs={}):\n",
    "        self.auc=0\n",
    "    def on_epoch_end(self, epoch, logs={}):\n",
    "        \n",
    "        predictions = self.model.predict(self.validation_data[0])\n",
    "        y_val = self.validation_data[1]\n",
    "     #   pred = []\n",
    "        print(predictions.shape)\n",
    "    #    for i in range(predictions.shape[0]):\n",
    "    #       pred.append(np.argmax(predictions[i]))\n",
    "        \n",
    "        self.auc = roc_auc_score(y_val, predictions, multi_class='ovr')\n",
    "        \n",
    "        print(\"AUC: {}\".format(self.auc))"
   ]
  },
  {
   "cell_type": "code",
   "execution_count": 125,
   "metadata": {},
   "outputs": [
    {
     "name": "stdout",
     "output_type": "stream",
     "text": [
      "Model: \"model_10\"\n",
      "_________________________________________________________________\n",
      "Layer (type)                 Output Shape              Param #   \n",
      "=================================================================\n",
      "Input_layer (InputLayer)     [(None, 768)]             0         \n",
      "_________________________________________________________________\n",
      "Dense1 (Dense)               (None, 256)               196864    \n",
      "_________________________________________________________________\n",
      "dropout_18 (Dropout)         (None, 256)               0         \n",
      "_________________________________________________________________\n",
      "Dense2 (Dense)               (None, 256)               65792     \n",
      "_________________________________________________________________\n",
      "dropout_19 (Dropout)         (None, 256)               0         \n",
      "_________________________________________________________________\n",
      "output_layer (Dense)         (None, 3)                 771       \n",
      "=================================================================\n",
      "Total params: 263,427\n",
      "Trainable params: 263,427\n",
      "Non-trainable params: 0\n",
      "_________________________________________________________________\n"
     ]
    }
   ],
   "source": [
    "input_layer = Input(shape=(768,), name='Input_layer')\n",
    "dense1 = Dense(256, activation = 'relu', kernel_initializer=tf.keras.initializers.he_normal(), name='Dense1')(input_layer)\n",
    "dropout1 = Dropout(0.5)(dense1)\n",
    "dense2 = Dense(256, activation = 'relu', kernel_initializer=tf.keras.initializers.he_normal(), name='Dense2')(dropout1)\n",
    "dropout2 = Dropout(0.5)(dense2)\n",
    "output_layer = Dense(3, activation='softmax', name='output_layer')(dropout2)\n",
    "\n",
    "model = Model(inputs=input_layer, outputs=output_layer)\n",
    "model.summary()"
   ]
  },
  {
   "cell_type": "code",
   "execution_count": 126,
   "metadata": {},
   "outputs": [],
   "source": [
    "optimizer = tf.keras.optimizers.Adam(0.0001)"
   ]
  },
  {
   "cell_type": "code",
   "execution_count": 127,
   "metadata": {},
   "outputs": [],
   "source": [
    "model.compile(optimizer, 'categorical_crossentropy', metrics=['accuracy'])"
   ]
  },
  {
   "cell_type": "code",
   "execution_count": 128,
   "metadata": {},
   "outputs": [],
   "source": [
    "log_dir=\"Tensorboard\\logs_m2\\\\fit4\\\\\" + datetime.datetime.now().strftime(\"%Y%m%d-%H%M%S\")\n",
    "tensorboard_callback = tf.keras.callbacks.TensorBoard(log_dir=log_dir,histogram_freq=1, write_graph=True)\n",
    "\n",
    "checkpoint = tf.keras.callbacks.ModelCheckpoint('Weights/Model_logsm2_fit4_best.h5', verbose=1, save_best_only=True)\n",
    "auc = scoring((X_test_output, y_test))"
   ]
  },
  {
   "cell_type": "code",
   "execution_count": 129,
   "metadata": {},
   "outputs": [
    {
     "name": "stdout",
     "output_type": "stream",
     "text": [
      "Train on 124649 samples, validate on 31163 samples\n",
      "Epoch 1/10\n",
      "    32/124649 [..............................] - ETA: 21:10 - loss: 1.6407 - accuracy: 0.3438WARNING:tensorflow:Method (on_train_batch_end) is slow compared to the batch update (0.706813). Check your callbacks.\n"
     ]
    },
    {
     "name": "stderr",
     "output_type": "stream",
     "text": [
      "WARNING:tensorflow:Method (on_train_batch_end) is slow compared to the batch update (0.706813). Check your callbacks.\n"
     ]
    },
    {
     "name": "stdout",
     "output_type": "stream",
     "text": [
      "124096/124649 [============================>.] - ETA: 0s - loss: 0.9378 - accuracy: 0.5650\n",
      "Epoch 00001: val_loss improved from inf to 0.82230, saving model to Weights/Model_logsm2_fit4_best.h5\n",
      "(31163, 3)\n",
      "AUC: 0.7862740816514089\n",
      "124649/124649 [==============================] - 22s 173us/sample - loss: 0.9373 - accuracy: 0.5652 - val_loss: 0.8223 - val_accuracy: 0.6329\n",
      "Epoch 2/10\n",
      "124288/124649 [============================>.] - ETA: 0s - loss: 0.8393 - accuracy: 0.6250\n",
      "Epoch 00002: val_loss improved from 0.82230 to 0.77887, saving model to Weights/Model_logsm2_fit4_best.h5\n",
      "(31163, 3)\n",
      "AUC: 0.8125638107883462\n",
      "124649/124649 [==============================] - 19s 152us/sample - loss: 0.8392 - accuracy: 0.6251 - val_loss: 0.7789 - val_accuracy: 0.6619\n",
      "Epoch 3/10\n",
      "124352/124649 [============================>.] - ETA: 0s - loss: 0.8146 - accuracy: 0.6409\n",
      "Epoch 00003: val_loss improved from 0.77887 to 0.76567, saving model to Weights/Model_logsm2_fit4_best.h5\n",
      "(31163, 3)\n",
      "AUC: 0.8210110195934854\n",
      "124649/124649 [==============================] - 20s 163us/sample - loss: 0.8145 - accuracy: 0.6409 - val_loss: 0.7657 - val_accuracy: 0.6683\n",
      "Epoch 4/10\n",
      "124608/124649 [============================>.] - ETA: 0s - loss: 0.8024 - accuracy: 0.6457\n",
      "Epoch 00004: val_loss improved from 0.76567 to 0.76235, saving model to Weights/Model_logsm2_fit4_best.h5\n",
      "(31163, 3)\n",
      "AUC: 0.8223537561446368\n",
      "124649/124649 [==============================] - 23s 185us/sample - loss: 0.8024 - accuracy: 0.6457 - val_loss: 0.7624 - val_accuracy: 0.6675\n",
      "Epoch 5/10\n",
      "124064/124649 [============================>.] - ETA: 0s - loss: 0.7954 - accuracy: 0.6499\n",
      "Epoch 00005: val_loss did not improve from 0.76235\n",
      "(31163, 3)\n",
      "AUC: 0.8237820756153065\n",
      "124649/124649 [==============================] - 21s 169us/sample - loss: 0.7954 - accuracy: 0.6499 - val_loss: 0.7679 - val_accuracy: 0.6647\n",
      "Epoch 6/10\n",
      "124448/124649 [============================>.] - ETA: 0s - loss: 0.7873 - accuracy: 0.6544\n",
      "Epoch 00006: val_loss improved from 0.76235 to 0.74830, saving model to Weights/Model_logsm2_fit4_best.h5\n",
      "(31163, 3)\n",
      "AUC: 0.8280610476021373\n",
      "124649/124649 [==============================] - 24s 193us/sample - loss: 0.7873 - accuracy: 0.6544 - val_loss: 0.7483 - val_accuracy: 0.6759\n",
      "Epoch 7/10\n",
      "124288/124649 [============================>.] - ETA: 0s - loss: 0.7829 - accuracy: 0.6567\n",
      "Epoch 00007: val_loss improved from 0.74830 to 0.74409, saving model to Weights/Model_logsm2_fit4_best.h5\n",
      "(31163, 3)\n",
      "AUC: 0.8297513538129256\n",
      "124649/124649 [==============================] - 20s 158us/sample - loss: 0.7830 - accuracy: 0.6567 - val_loss: 0.7441 - val_accuracy: 0.6785\n",
      "Epoch 8/10\n",
      "124512/124649 [============================>.] - ETA: 0s - loss: 0.7784 - accuracy: 0.6579\n",
      "Epoch 00008: val_loss did not improve from 0.74409\n",
      "(31163, 3)\n",
      "AUC: 0.8296337963855221\n",
      "124649/124649 [==============================] - 19s 155us/sample - loss: 0.7784 - accuracy: 0.6579 - val_loss: 0.7474 - val_accuracy: 0.6763\n",
      "Epoch 9/10\n",
      "124160/124649 [============================>.] - ETA: 0s - loss: 0.7771 - accuracy: 0.6604\n",
      "Epoch 00009: val_loss did not improve from 0.74409\n",
      "(31163, 3)\n",
      "AUC: 0.8292859131194964\n",
      "124649/124649 [==============================] - 21s 170us/sample - loss: 0.7770 - accuracy: 0.6603 - val_loss: 0.7442 - val_accuracy: 0.6763\n",
      "Epoch 10/10\n",
      "124288/124649 [============================>.] - ETA: 0s - loss: 0.7728 - accuracy: 0.6624\n",
      "Epoch 00010: val_loss improved from 0.74409 to 0.74076, saving model to Weights/Model_logsm2_fit4_best.h5\n",
      "(31163, 3)\n",
      "AUC: 0.8324312229128421\n",
      "124649/124649 [==============================] - 23s 186us/sample - loss: 0.7727 - accuracy: 0.6626 - val_loss: 0.7408 - val_accuracy: 0.6812\n"
     ]
    },
    {
     "data": {
      "text/plain": [
       "<tensorflow.python.keras.callbacks.History at 0x1990e789d48>"
      ]
     },
     "execution_count": 129,
     "metadata": {},
     "output_type": "execute_result"
    }
   ],
   "source": [
    "# dropout = 0.5, 256\n",
    "model.fit(X_train_output, y_train_OHE, epochs = 10, validation_data=(X_test_output, y_test_OHE), batch_size = 32,\n",
    "          callbacks=[tensorboard_callback, checkpoint, auc], verbose = 1)"
   ]
  },
  {
   "cell_type": "code",
   "execution_count": 156,
   "metadata": {},
   "outputs": [],
   "source": [
    "nn_pred = model.predict(X_test_output)"
   ]
  },
  {
   "cell_type": "code",
   "execution_count": 158,
   "metadata": {},
   "outputs": [],
   "source": [
    "nn_pred = np.argmax(nn_pred, axis=1)"
   ]
  },
  {
   "cell_type": "code",
   "execution_count": 161,
   "metadata": {},
   "outputs": [
    {
     "data": {
      "text/plain": [
       "Text(33.0, 0.5, 'Actual')"
      ]
     },
     "execution_count": 161,
     "metadata": {},
     "output_type": "execute_result"
    },
    {
     "data": {
      "image/png": "[encoded data removed]",
      "text/plain": [
       "<Figure size 432x432 with 2 Axes>"
      ]
     },
     "metadata": {
      "needs_background": "light"
     },
     "output_type": "display_data"
    }
   ],
   "source": [
    "plt.figure(figsize=(6,6))\n",
    "plt.title('Confusion Matrix')\n",
    "sns.heatmap(confusion_matrix(y_test.values, nn_pred), cmap='Reds', annot=True)\n",
    "plt.xlabel('Predicted')\n",
    "plt.ylabel('Actual')"
   ]
  }
 ],
 "metadata": {
  "kernelspec": {
   "display_name": "Python [conda env:py3-TF2.0] *",
   "language": "python",
   "name": "conda-env-py3-TF2.0-py"
  },
  "language_info": {
   "codemirror_mode": {
    "name": "ipython",
    "version": 3
   },
   "file_extension": ".py",
   "mimetype": "text/x-python",
   "name": "python",
   "nbconvert_exporter": "python",
   "pygments_lexer": "ipython3",
   "version": "3.7.7"
  }
 },
 "nbformat": 4,
 "nbformat_minor": 4
}
